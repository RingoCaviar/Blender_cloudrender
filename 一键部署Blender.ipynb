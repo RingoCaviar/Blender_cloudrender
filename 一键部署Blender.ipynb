{
 "cells": [
  {
   "cell_type": "markdown",
   "id": "cbe46062-03a7-47b5-94b8-525ea1c83776",
   "metadata": {},
   "source": [
    "##### <font color=\"green\">技巧，点击上方三角播放按钮或Shift+Enter可以运行左侧蓝色亮起的行,右键可以清除代码运行产生的反馈</font>"
   ]
  },
  {
   "cell_type": "markdown",
   "id": "3f725747-ff1a-4ee8-b9c3-aa058a974ffd",
   "metadata": {},
   "source": [
    "##### <font color=\"green\">要更换blender版本可以去blendercn的下载页面点击清华镜像站获取下载直链替换到下方下载代码中，并且环境变量等参数也要修改，可以用Ctrl+F批量修改</font>"
   ]
  },
  {
   "cell_type": "markdown",
   "id": "d500ade5-9b78-4478-8543-0b6ebee2ea94",
   "metadata": {},
   "source": [
    "# 0、准备工作 \n",
    "##### <font color=\"red\">只需运行一次即可</font>"
   ]
  },
  {
   "cell_type": "code",
   "execution_count": null,
   "id": "5a2b3787-1d17-4ac5-8ffa-3d2fe4222ef0",
   "metadata": {},
   "outputs": [],
   "source": [
    "!(mkdir -p /root/autodl-tmp/Render_Files;\\\n",
    "mkdir -p /root/autodl-tmp/Render_Output;\\\n",
    "apt update && apt install -y libsm6 libxext6 libegl1;\\\n",
    "apt-get install -y libxrender-dev)"
   ]
  },
  {
   "cell_type": "markdown",
   "id": "0724b052-be6f-4ec0-81bd-b48138d02e5d",
   "metadata": {},
   "source": [
    "# 1、先下载并解压blender"
   ]
  },
  {
   "cell_type": "code",
   "execution_count": null,
   "id": "3032b2a4-c158-4ee4-bdd7-0559295b4ea7",
   "metadata": {},
   "outputs": [],
   "source": [
    "!(cd /root;\\\n",
    "wget https://mirrors.tuna.tsinghua.edu.cn/blender/blender-release/Blender4.2/blender-4.2.4-linux-x64.tar.xz;\\\n",
    "tar -xf blender-4.2.4-linux-x64.tar.xz)"
   ]
  },
  {
   "cell_type": "markdown",
   "id": "31c89545-d155-4b28-b1ac-b880f6031d1f",
   "metadata": {},
   "source": [
    "# 2、设置环境变量 \n",
    "##### <font color=\"red\">只需运行一次即可</font>"
   ]
  },
  {
   "cell_type": "code",
   "execution_count": null,
   "id": "727751cf-0510-4e8e-b5ac-18216d6aa0e0",
   "metadata": {},
   "outputs": [],
   "source": [
    "%%writefile /root/.bashrc\n",
    "export PATH=/root/blender-4.2.4-linux-x64:$PATH"
   ]
  },
  {
   "cell_type": "markdown",
   "id": "4261f7bb-5a64-4d57-b95e-7e476e5c1231",
   "metadata": {},
   "source": [
    "# 3、上传好文件开始最终渲染！！！\n",
    "## 如果觉得记事本中运行时产生的代码过长，建议复制除第一行以外的每行代码新开一个黑色的终端运行，可以一次复制多行"
   ]
  },
  {
   "cell_type": "code",
   "execution_count": null,
   "id": "7795af99-1b47-42ec-93b5-00e27a85efa7",
   "metadata": {},
   "outputs": [],
   "source": [
    "!(source /root/.bashrc;\\\n",
    "cd /root/autodl-tmp/Render_Files;\\\n",
    "blender -E \"CYCLES\" -b \"/root/autodl-tmp/Render_Files/render_test.blend\" -o \"/root/autodl-tmp/Render_Output/render2_####\" -f 1 -- --cycles-device OPTIX)"
   ]
  },
  {
   "cell_type": "markdown",
   "id": "26a95507-d465-445a-bb9e-d83ca78e5931",
   "metadata": {},
   "source": [
    "# 安装第三方OCIO PixelManager"
   ]
  },
  {
   "cell_type": "code",
   "execution_count": null,
   "id": "e8020200-07dc-413c-91f9-b9ad19538888",
   "metadata": {},
   "outputs": [],
   "source": [
    "!(mkdir -p /root/OCIO;\\\n",
    "cd /root/OCIO;\\\n",
    "git clone https://gitee.com/cainjuu/pixel-manager_clone.git)"
   ]
  },
  {
   "cell_type": "markdown",
   "id": "0b1194ba-a498-46db-a660-4796faa1ce4a",
   "metadata": {},
   "source": [
    "### 启用第三方OCIO"
   ]
  },
  {
   "cell_type": "code",
   "execution_count": null,
   "id": "6c33cf16-bc37-4ce2-8daf-cd819b737134",
   "metadata": {},
   "outputs": [],
   "source": [
    "%%writefile /root/.bashrc\n",
    "export PATH=/root/blender-4.2.4-linux-x64:$PATH\n",
    "export OCIO=/root/OCIO/pixel-manager_clone/config.ocio"
   ]
  },
  {
   "cell_type": "markdown",
   "id": "02a411a2-3a82-4475-ba30-63a923bac3d1",
   "metadata": {},
   "source": [
    "### 禁用第三方OCIO"
   ]
  },
  {
   "cell_type": "code",
   "execution_count": null,
   "id": "f9cfa315-942b-4629-9807-30a4370d25d1",
   "metadata": {},
   "outputs": [],
   "source": [
    "%%writefile /root/.bashrc\n",
    "export PATH=/root/blender-4.2.4-linux-x64:$PATH"
   ]
  }
 ],
 "metadata": {
  "kernelspec": {
   "display_name": "Python 3 (ipykernel)",
   "language": "python",
   "name": "python3"
  },
  "language_info": {
   "codemirror_mode": {
    "name": "ipython",
    "version": 3
   },
   "file_extension": ".py",
   "mimetype": "text/x-python",
   "name": "python",
   "nbconvert_exporter": "python",
   "pygments_lexer": "ipython3",
   "version": "3.12.3"
  }
 },
 "nbformat": 4,
 "nbformat_minor": 5
}
